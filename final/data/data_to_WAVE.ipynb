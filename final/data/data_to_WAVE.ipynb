{
 "cells": [
  {
   "cell_type": "code",
   "execution_count": 14,
   "metadata": {},
   "outputs": [],
   "source": [
    "with open('./total_data.csv', 'r') as fin:\n",
    "    data = fin.readlines()\n",
    "    data = data[1:]"
   ]
  },
  {
   "cell_type": "code",
   "execution_count": 34,
   "metadata": {},
   "outputs": [],
   "source": [
    "# print(data)\n",
    "right = []\n",
    "left = []\n",
    "nothing = []\n",
    "stop = []\n",
    "for line in data:\n",
    "    # print(line)\n",
    "    num_mode = line.strip().split(',')\n",
    "    if(num_mode[1] == 'r'):\n",
    "        for num in num_mode[0].split():\n",
    "            right.append(int(num))\n",
    "    if(num_mode[1] == 'l'):\n",
    "        for num in num_mode[0].split():\n",
    "            left.append(int(num))  \n",
    "    if(num_mode[1] == 's'):\n",
    "        for num in num_mode[0].split():\n",
    "            stop.append(int(num))\n",
    "    if(num_mode[1] == 'n'):\n",
    "        for num in num_mode[0].split():\n",
    "            nothing.append(int(num))"
   ]
  },
  {
   "cell_type": "code",
   "execution_count": 44,
   "metadata": {},
   "outputs": [
    {
     "name": "stdout",
     "output_type": "stream",
     "text": [
      "len of right :  1205.0\n",
      "len of left :  1244.0\n",
      "len of stop :  12.0\n",
      "len of nothing :  1778.0\n"
     ]
    }
   ],
   "source": [
    "print(\"len of right : \", len(right)/24)\n",
    "print(\"len of left : \", len(left)/24)\n",
    "print(\"len of stop : \", len(stop)/24)\n",
    "print(\"len of nothing : \", len(nothing)/24)"
   ]
  },
  {
   "cell_type": "code",
   "execution_count": 47,
   "metadata": {},
   "outputs": [],
   "source": [
    "with open('WAVEDATA.h', 'w') as fout:\n",
    "    fout.write(\"#define LEFT_WAVEDATA_NUMBER 300    //1244\\n\")\n",
    "    fout.write(\"#define RIGHT_WAVEDATA_NUMBER 300   //1205\\n\")\n",
    "    fout.write(\"#define STOP_WAVEDATA_NUMBER 12\\n\") \n",
    "    fout.write(\"#define NOTHING_WAVEDATA_NUMBER 300  //1778\\n\")\n",
    "    fout.write(\"#define LEFT_WAVEDATA {\")\n",
    "    for num in left[:299*24-2]:\n",
    "        fout.write(str(num)+\", \")\n",
    "    fout.write(str(left[299*24-1])+\"}\\n\")\n",
    "\n",
    "    fout.write(\"#define RIGHT_WAVEDATA {\")\n",
    "    for num in right[:299*24-2]:\n",
    "        fout.write(str(num)+\", \")\n",
    "    fout.write(str(right[299*24-1])+\"}\\n\")\n",
    "\n",
    "    fout.write(\"#define STOP_WAVEDATA {\")\n",
    "    for num in stop[:-2]:\n",
    "        fout.write(str(num)+\", \")\n",
    "    fout.write(str(stop[-1])+\"}\\n\")\n",
    "\n",
    "    fout.write(\"#define NOTHING_WAVEDATA {\")\n",
    "    for num in nothing[:299*24-2]:\n",
    "        fout.write(str(num)+\", \")\n",
    "    fout.write(str(nothing[299*24-1])+\"}\\n\")\n",
    "    "
   ]
  }
 ],
 "metadata": {
  "interpreter": {
   "hash": "be79a673a876c1342e69ef5fd670e776ba5b5dd2b99cb3a62f1990c400599536"
  },
  "kernelspec": {
   "display_name": "Python 3.7.3 64-bit ('base': conda)",
   "language": "python",
   "name": "python3"
  },
  "language_info": {
   "codemirror_mode": {
    "name": "ipython",
    "version": 3
   },
   "file_extension": ".py",
   "mimetype": "text/x-python",
   "name": "python",
   "nbconvert_exporter": "python",
   "pygments_lexer": "ipython3",
   "version": "3.7.3"
  },
  "orig_nbformat": 4
 },
 "nbformat": 4,
 "nbformat_minor": 2
}
